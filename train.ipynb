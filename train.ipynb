{
 "cells": [
  {
   "cell_type": "code",
   "execution_count": null,
   "metadata": {},
   "outputs": [],
   "source": [
    "from util.dataset_tools import (\n",
    "    train,\n",
    "    get_cifar10,\n",
    "    test_and_dump,\n",
    "    augment_set,\n",
    "    loader_to_xy,\n",
    "    xy_to_loader,\n",
    "    load_model,\n",
    ")\n",
    "from models.CIFAR10.resnet import ResNet101Comp"
   ]
  },
  {
   "cell_type": "code",
   "execution_count": null,
   "metadata": {},
   "outputs": [],
   "source": [
    "EPOCHS = 300\n",
    "BATCH_SIZE = 128\n",
    "EXPAND_SIZE = 10\n",
    "TRAIN = False\n",
    "MODEL_PATH = 'models/resnet_101_comp.h5'\n",
    "RAW_DUMP_PATH = 'dumps/resnet_101_raw'\n",
    "COMPRESSED_DUMP_PATH = 'dumps/resnet_101_compressed'"
   ]
  },
  {
   "cell_type": "code",
   "execution_count": null,
   "metadata": {},
   "outputs": [],
   "source": [
    "train_loader, test_loader = get_cifar10(BATCH_SIZE)\n",
    "model = ResNet101Comp(enable_compression=False)\n",
    "# model = ResNet152()"
   ]
  },
  {
   "cell_type": "code",
   "execution_count": null,
   "metadata": {},
   "outputs": [],
   "source": [
    "print(model)"
   ]
  },
  {
   "cell_type": "code",
   "execution_count": null,
   "metadata": {},
   "outputs": [],
   "source": [
    "if TRAIN:\n",
    "    train(model, train_loader, test_loader, EPOCHS, path=MODEL_PATH)\n",
    "else:\n",
    "    model = load_model(model, MODEL_PATH)"
   ]
  },
  {
   "cell_type": "code",
   "execution_count": null,
   "metadata": {},
   "outputs": [],
   "source": [
    "model.enable_compression = True\n",
    "if TRAIN:\n",
    "    train(model, train_loader, test_loader, EPOCHS, path=MODEL_PATH)"
   ]
  },
  {
   "cell_type": "code",
   "execution_count": null,
   "metadata": {},
   "outputs": [],
   "source": [
    "x, y = loader_to_xy(test_loader)\n",
    "x_aug, y_aug = augment_set(x, y, EXPAND_SIZE)\n",
    "aug_loader = xy_to_loader(x_aug, y_aug, BATCH_SIZE)"
   ]
  },
  {
   "cell_type": "code",
   "execution_count": null,
   "metadata": {},
   "outputs": [],
   "source": [
    "model.dump_logits = True\n",
    "model.enable_compression = False\n",
    "test_and_dump(model, aug_loader, name=RAW_DUMP_PATH, parellel=True)\n",
    "model.enable_compression = True\n",
    "test_and_dump(model, aug_loader, name=COMPRESSED_DUMP_PATH, parellel=True)"
   ]
  }
 ],
 "metadata": {
  "kernelspec": {
   "display_name": "pygpu",
   "language": "python",
   "name": "python3"
  },
  "language_info": {
   "codemirror_mode": {
    "name": "ipython",
    "version": 3
   },
   "file_extension": ".py",
   "mimetype": "text/x-python",
   "name": "python",
   "nbconvert_exporter": "python",
   "pygments_lexer": "ipython3",
   "version": "3.11.9"
  }
 },
 "nbformat": 4,
 "nbformat_minor": 2
}
